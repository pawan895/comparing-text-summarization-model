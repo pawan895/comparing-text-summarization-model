{
 "cells": [
  {
   "cell_type": "code",
   "execution_count": 1,
   "id": "e06f9923",
   "metadata": {},
   "outputs": [
    {
     "name": "stderr",
     "output_type": "stream",
     "text": [
      "C:\\Users\\bpawa\\AppData\\Local\\Programs\\Python\\Python311\\Lib\\site-packages\\tqdm\\auto.py:21: TqdmWarning: IProgress not found. Please update jupyter and ipywidgets. See https://ipywidgets.readthedocs.io/en/stable/user_install.html\n",
      "  from .autonotebook import tqdm as notebook_tqdm\n"
     ]
    },
    {
     "name": "stdout",
     "output_type": "stream",
     "text": [
      "Artificial intelligence (AI) has become a transformative force in various industries. Machine learning, a subset of AI, enables systems to learn and improve from experience without explicit programming. One notable application of AI is in natural language processing (NLP) This capability is crucial for chatbots, language translation, and sentiment analysis. In conclusion, artificial intelligence, particularly in the form of machine learning and natural language processing, is reshaping industries and bringing about significant changes. As we embrace these advancements, it is crucial to address ethical considerations and work towards responsible AI development.ensure that AI benefits society as a whole.\n"
     ]
    }
   ],
   "source": [
    "from transformers import BartTokenizer, BartForConditionalGeneration\n",
    "\n",
    "model_name = 'facebook/bart-large-cnn'  # replace with the actual model name if different\n",
    "\n",
    "tokenizer = BartTokenizer.from_pretrained(model_name)\n",
    "model = BartForConditionalGeneration.from_pretrained(model_name)\n",
    "\n",
    "with open('content/justafile.txt', 'r') as f:\n",
    "    arxiv_paper = f.read()\n",
    "\n",
    "input_chunks = [arxiv_paper[i:i+1024] for i in range(0, len(arxiv_paper), 1024)]\n",
    "\n",
    "summaries = []\n",
    "for chunk in input_chunks:\n",
    "    input_ids = tokenizer.encode(chunk, return_tensors='pt', max_length=1024, truncation=True)\n",
    "    output = model.generate(input_ids, max_length=100, num_beams=5, length_penalty=0.8)\n",
    "    summary = tokenizer.decode(output[0], skip_special_tokens=True)\n",
    "    summaries.append(summary)\n",
    "\n",
    "summary = ' '.join(summaries)\n",
    "print(summary)"
   ]
  },
  {
   "cell_type": "code",
   "execution_count": 2,
   "id": "bcc622f2",
   "metadata": {},
   "outputs": [],
   "source": [
    "reference_summary=\"\"\"Artificial intelligence (AI) is transforming industries by enhancing efficiency and enabling data-driven decisions. \n",
    "Machine learning, a subset of AI, facilitates learning from experience without explicit programming. \n",
    "Natural language processing (NLP) is a key application, allowing computers to understand and generate human-like text. \n",
    "OpenAI's GPT-3 exemplifies powerful NLP capabilities. Despite advancements, ethical concerns like bias, data privacy, and \n",
    "job displacement persist. Striking a balance between progress and ethical responsibility is crucial for the positive impact of AI on society.\n",
    "\"\"\""
   ]
  },
  {
   "cell_type": "code",
   "execution_count": 5,
   "id": "29cf30de",
   "metadata": {},
   "outputs": [
    {
     "name": "stdout",
     "output_type": "stream",
     "text": [
      "[\n",
      "    {\n",
      "        \"rouge-1\": {\n",
      "            \"r\": 0.4142857142857143,\n",
      "            \"p\": 0.3717948717948718,\n",
      "            \"f\": 0.3918918869065011\n",
      "        },\n",
      "        \"rouge-2\": {\n",
      "            \"r\": 0.20512820512820512,\n",
      "            \"p\": 0.16666666666666666,\n",
      "            \"f\": 0.18390804103051933\n",
      "        },\n",
      "        \"rouge-l\": {\n",
      "            \"r\": 0.4142857142857143,\n",
      "            \"p\": 0.3717948717948718,\n",
      "            \"f\": 0.3918918869065011\n",
      "        }\n",
      "    }\n",
      "]\n"
     ]
    }
   ],
   "source": [
    "from rouge import Rouge\n",
    "rouge = Rouge()\n",
    "scores = rouge.get_scores(summary, reference_summary)\n",
    "print(json.dumps(scores, indent=4))"
   ]
  },
  {
   "cell_type": "code",
   "execution_count": 4,
   "id": "de1e4348",
   "metadata": {},
   "outputs": [],
   "source": [
    "import os\n",
    "import json\n",
    "directory = 'results'\n",
    "if not os.path.exists(directory):\n",
    "    os.makedirs(directory)\n",
    "\n",
    "# Save the ROUGE scores to a text file in the new directory\n",
    "file_path = os.path.join(directory, 'hugging_face_rouge_scores.txt')\n",
    "with open(file_path, 'w') as file:\n",
    "    file.write(json.dumps(scores))"
   ]
  }
 ],
 "metadata": {
  "kernelspec": {
   "display_name": "Python 3 (ipykernel)",
   "language": "python",
   "name": "python3"
  },
  "language_info": {
   "codemirror_mode": {
    "name": "ipython",
    "version": 3
   },
   "file_extension": ".py",
   "mimetype": "text/x-python",
   "name": "python",
   "nbconvert_exporter": "python",
   "pygments_lexer": "ipython3",
   "version": "3.11.4"
  }
 },
 "nbformat": 4,
 "nbformat_minor": 5
}
